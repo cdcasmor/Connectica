{
 "cells": [
  {
   "cell_type": "code",
   "execution_count": 1,
   "metadata": {
    "collapsed": true
   },
   "outputs": [],
   "source": [
    "import pandas as pd\n",
    "import numpy as np\n",
    "import matplotlib.pyplot as plt\n",
    "from matplotlib import rc\n",
    "from collections import Counter"
   ]
  },
  {
   "cell_type": "code",
   "execution_count": 2,
   "metadata": {
    "collapsed": true
   },
   "outputs": [],
   "source": [
    "hwinv_df = pd.read_csv('(Internal)_hwinv_details.csv')\n",
    "sccm_df = pd.read_csv('SCCM_ActiveDevices_04242019.csv')\n",
    "nonrepo_df = pd.read_csv('(Internal)_nonrepodevice_details.csv')"
   ]
  },
  {
   "cell_type": "code",
   "execution_count": 3,
   "metadata": {
    "scrolled": false
   },
   "outputs": [
    {
     "data": {
      "text/plain": [
       "(114341, 23)"
      ]
     },
     "execution_count": 3,
     "metadata": {},
     "output_type": "execute_result"
    }
   ],
   "source": [
    "serials = hwinv_df['Serial Number']\n",
    "hwinv_df.shape"
   ]
  },
  {
   "cell_type": "code",
   "execution_count": 4,
   "metadata": {},
   "outputs": [
    {
     "data": {
      "text/plain": [
       "(74511, 20)"
      ]
     },
     "execution_count": 4,
     "metadata": {},
     "output_type": "execute_result"
    }
   ],
   "source": [
    "sccm_df.shape"
   ]
  },
  {
   "cell_type": "code",
   "execution_count": 5,
   "metadata": {
    "collapsed": true,
    "scrolled": false
   },
   "outputs": [],
   "source": [
    "sccm_df['x1'] = sccm_df['SERIAL_NUMBER']\n",
    "hwinv_df['x1'] = hwinv_df['Serial Number'] "
   ]
  },
  {
   "cell_type": "code",
   "execution_count": 6,
   "metadata": {},
   "outputs": [
    {
     "data": {
      "text/plain": [
       "(4594,)"
      ]
     },
     "execution_count": 6,
     "metadata": {},
     "output_type": "execute_result"
    }
   ],
   "source": [
    "merged = sccm_df[~sccm_df.x1.isin(hwinv_df.x1)]\n",
    "merged = merged['x1']\n",
    "merged.shape"
   ]
  },
  {
   "cell_type": "code",
   "execution_count": 7,
   "metadata": {},
   "outputs": [
    {
     "data": {
      "text/plain": [
       "1     SGH415TWNP\n",
       "15    CZC8190BYC\n",
       "17    5CG6400WKP\n",
       "22    MXL20900RZ\n",
       "23    2UA5461TJQ\n",
       "25    2UA0181CWW\n",
       "27    MXL5171RSR\n",
       "35    2UA63226GY\n",
       "36    2UA44613F0\n",
       "37    SGH402PH86\n",
       "Name: x1, dtype: object"
      ]
     },
     "execution_count": 7,
     "metadata": {},
     "output_type": "execute_result"
    }
   ],
   "source": [
    "merged.head(10)"
   ]
  },
  {
   "cell_type": "code",
   "execution_count": 8,
   "metadata": {},
   "outputs": [
    {
     "data": {
      "text/plain": [
       "(44550,)"
      ]
     },
     "execution_count": 8,
     "metadata": {},
     "output_type": "execute_result"
    }
   ],
   "source": [
    "merged2 = hwinv_df[~hwinv_df.x1.isin(sccm_df.x1)]\n",
    "merged2 = merged2['x1'].unique()\n",
    "merged2.shape"
   ]
  },
  {
   "cell_type": "code",
   "execution_count": 10,
   "metadata": {},
   "outputs": [
    {
     "data": {
      "text/plain": [
       "array(['CNU330BBWS', '5CG6396574', '5CG5141FJT', '5CG6053KCL',\n",
       "       'CNU4169WYM', 'CNU430C83Z', '5CG7313549', 'CNU4289X5Z',\n",
       "       'CND6401N66', 'CNU425C64L', '5CG6116XHG', '5CG6116XJ1',\n",
       "       'CNU401CF00', '5CD6411JSJ', '5CG62154JM', '5CG6192JW1',\n",
       "       '5CG643159P', 'CNU316CSFR', '5CG6053JZK', '5CG6103F5V'],\n",
       "      dtype=object)"
      ]
     },
     "execution_count": 10,
     "metadata": {},
     "output_type": "execute_result"
    }
   ],
   "source": [
    "merged2[0:20]"
   ]
  },
  {
   "cell_type": "code",
   "execution_count": 11,
   "metadata": {},
   "outputs": [
    {
     "data": {
      "text/plain": [
       "(114341, 8)"
      ]
     },
     "execution_count": 11,
     "metadata": {},
     "output_type": "execute_result"
    }
   ],
   "source": [
    "nonrepo_df.shape"
   ]
  },
  {
   "cell_type": "code",
   "execution_count": 12,
   "metadata": {},
   "outputs": [
    {
     "data": {
      "text/plain": [
       "Index(['Last Seen', 'Device Name', 'Serial Number', 'Device Type',\n",
       "       'Device Manufacturer', 'Last Seen Date', 'Enrollment Date',\n",
       "       'Manufacture Date'],\n",
       "      dtype='object')"
      ]
     },
     "execution_count": 12,
     "metadata": {},
     "output_type": "execute_result"
    }
   ],
   "source": [
    "nonrepo_df.columns"
   ]
  },
  {
   "cell_type": "code",
   "execution_count": 13,
   "metadata": {},
   "outputs": [
    {
     "data": {
      "text/html": [
       "<div>\n",
       "<style>\n",
       "    .dataframe thead tr:only-child th {\n",
       "        text-align: right;\n",
       "    }\n",
       "\n",
       "    .dataframe thead th {\n",
       "        text-align: left;\n",
       "    }\n",
       "\n",
       "    .dataframe tbody tr th {\n",
       "        vertical-align: top;\n",
       "    }\n",
       "</style>\n",
       "<table border=\"1\" class=\"dataframe\">\n",
       "  <thead>\n",
       "    <tr style=\"text-align: right;\">\n",
       "      <th></th>\n",
       "      <th>Last Seen</th>\n",
       "      <th>Device Name</th>\n",
       "      <th>Serial Number</th>\n",
       "      <th>Device Type</th>\n",
       "      <th>Last Seen Date</th>\n",
       "      <th>Enrollment Date</th>\n",
       "      <th>Manufacture Date</th>\n",
       "    </tr>\n",
       "  </thead>\n",
       "  <tbody>\n",
       "    <tr>\n",
       "      <th>0</th>\n",
       "      <td>This week</td>\n",
       "      <td>A28</td>\n",
       "      <td>5CG81207DL</td>\n",
       "      <td>Notebook</td>\n",
       "      <td>4/22/2019 4:54</td>\n",
       "      <td>4/3/2019 0:00</td>\n",
       "      <td>3/20/2018 0:00</td>\n",
       "    </tr>\n",
       "    <tr>\n",
       "      <th>1</th>\n",
       "      <td>This week</td>\n",
       "      <td>AA11</td>\n",
       "      <td>5CG639648Z</td>\n",
       "      <td>Notebook</td>\n",
       "      <td>4/23/2019 0:06</td>\n",
       "      <td>1/9/2018 0:00</td>\n",
       "      <td>9/27/2016 0:00</td>\n",
       "    </tr>\n",
       "    <tr>\n",
       "      <th>2</th>\n",
       "      <td>This week</td>\n",
       "      <td>AAJAI5</td>\n",
       "      <td>5CG8378BP0</td>\n",
       "      <td>Notebook</td>\n",
       "      <td>4/23/2019 14:16</td>\n",
       "      <td>12/19/2018 0:00</td>\n",
       "      <td>9/11/2018 0:00</td>\n",
       "    </tr>\n",
       "    <tr>\n",
       "      <th>3</th>\n",
       "      <td>This week</td>\n",
       "      <td>AAK2</td>\n",
       "      <td>5CG6400G4T</td>\n",
       "      <td>Notebook</td>\n",
       "      <td>4/23/2019 2:27</td>\n",
       "      <td>1/10/2018 0:00</td>\n",
       "      <td>10/4/2016 0:00</td>\n",
       "    </tr>\n",
       "    <tr>\n",
       "      <th>4</th>\n",
       "      <td>This week</td>\n",
       "      <td>AALLEGRO8</td>\n",
       "      <td>5CG8110Y2X</td>\n",
       "      <td>Notebook</td>\n",
       "      <td>4/19/2019 2:59</td>\n",
       "      <td>4/30/2018 0:00</td>\n",
       "      <td>3/13/2018 0:00</td>\n",
       "    </tr>\n",
       "    <tr>\n",
       "      <th>5</th>\n",
       "      <td>This week</td>\n",
       "      <td>AAN3</td>\n",
       "      <td>5CG84555J6</td>\n",
       "      <td>Notebook</td>\n",
       "      <td>4/19/2019 0:23</td>\n",
       "      <td>3/26/2019 0:00</td>\n",
       "      <td>11/6/2018 0:00</td>\n",
       "    </tr>\n",
       "    <tr>\n",
       "      <th>6</th>\n",
       "      <td>This week</td>\n",
       "      <td>AARDAIZ8</td>\n",
       "      <td>CNU401B10P</td>\n",
       "      <td>Notebook</td>\n",
       "      <td>4/22/2019 21:33</td>\n",
       "      <td>5/8/2018 0:00</td>\n",
       "      <td>12/31/2013 0:00</td>\n",
       "    </tr>\n",
       "    <tr>\n",
       "      <th>7</th>\n",
       "      <td>This week</td>\n",
       "      <td>AARONELP1</td>\n",
       "      <td>5CG812089B</td>\n",
       "      <td>Notebook</td>\n",
       "      <td>4/21/2019 7:26</td>\n",
       "      <td>7/2/2018 0:00</td>\n",
       "      <td>3/20/2018 0:00</td>\n",
       "    </tr>\n",
       "    <tr>\n",
       "      <th>8</th>\n",
       "      <td>This week</td>\n",
       "      <td>AARONW15</td>\n",
       "      <td>5CG7364Q3M</td>\n",
       "      <td>Notebook</td>\n",
       "      <td>4/21/2019 16:32</td>\n",
       "      <td>9/18/2018 0:00</td>\n",
       "      <td>9/5/2017 0:00</td>\n",
       "    </tr>\n",
       "    <tr>\n",
       "      <th>9</th>\n",
       "      <td>This week</td>\n",
       "      <td>ABADMART2</td>\n",
       "      <td>CND80961R0</td>\n",
       "      <td>Notebook</td>\n",
       "      <td>4/22/2019 10:05</td>\n",
       "      <td>5/14/2018 0:00</td>\n",
       "      <td>2/27/2018 0:00</td>\n",
       "    </tr>\n",
       "  </tbody>\n",
       "</table>\n",
       "</div>"
      ],
      "text/plain": [
       "   Last Seen Device Name Serial Number Device Type   Last Seen Date  \\\n",
       "0  This week         A28    5CG81207DL    Notebook   4/22/2019 4:54   \n",
       "1  This week        AA11    5CG639648Z    Notebook   4/23/2019 0:06   \n",
       "2  This week      AAJAI5    5CG8378BP0    Notebook  4/23/2019 14:16   \n",
       "3  This week        AAK2    5CG6400G4T    Notebook   4/23/2019 2:27   \n",
       "4  This week   AALLEGRO8    5CG8110Y2X    Notebook   4/19/2019 2:59   \n",
       "5  This week        AAN3    5CG84555J6    Notebook   4/19/2019 0:23   \n",
       "6  This week    AARDAIZ8    CNU401B10P    Notebook  4/22/2019 21:33   \n",
       "7  This week   AARONELP1    5CG812089B    Notebook   4/21/2019 7:26   \n",
       "8  This week    AARONW15    5CG7364Q3M    Notebook  4/21/2019 16:32   \n",
       "9  This week   ABADMART2    CND80961R0    Notebook  4/22/2019 10:05   \n",
       "\n",
       "   Enrollment Date Manufacture Date  \n",
       "0    4/3/2019 0:00   3/20/2018 0:00  \n",
       "1    1/9/2018 0:00   9/27/2016 0:00  \n",
       "2  12/19/2018 0:00   9/11/2018 0:00  \n",
       "3   1/10/2018 0:00   10/4/2016 0:00  \n",
       "4   4/30/2018 0:00   3/13/2018 0:00  \n",
       "5   3/26/2019 0:00   11/6/2018 0:00  \n",
       "6    5/8/2018 0:00  12/31/2013 0:00  \n",
       "7    7/2/2018 0:00   3/20/2018 0:00  \n",
       "8   9/18/2018 0:00    9/5/2017 0:00  \n",
       "9   5/14/2018 0:00   2/27/2018 0:00  "
      ]
     },
     "execution_count": 13,
     "metadata": {},
     "output_type": "execute_result"
    }
   ],
   "source": [
    "nonrepo_df = nonrepo_df[['Last Seen', 'Device Name', 'Serial Number', 'Device Type', 'Last Seen Date', 'Enrollment Date','Manufacture Date']]\n",
    "nonrepo_df.head(10)"
   ]
  },
  {
   "cell_type": "code",
   "execution_count": 15,
   "metadata": {},
   "outputs": [
    {
     "data": {
      "text/html": [
       "<div>\n",
       "<style>\n",
       "    .dataframe thead tr:only-child th {\n",
       "        text-align: right;\n",
       "    }\n",
       "\n",
       "    .dataframe thead th {\n",
       "        text-align: left;\n",
       "    }\n",
       "\n",
       "    .dataframe tbody tr th {\n",
       "        vertical-align: top;\n",
       "    }\n",
       "</style>\n",
       "<table border=\"1\" class=\"dataframe\">\n",
       "  <thead>\n",
       "    <tr style=\"text-align: right;\">\n",
       "      <th></th>\n",
       "      <th>x1</th>\n",
       "      <th>Last Seen Date</th>\n",
       "      <th>Last Seen</th>\n",
       "    </tr>\n",
       "  </thead>\n",
       "  <tbody>\n",
       "    <tr>\n",
       "      <th>0</th>\n",
       "      <td>5CG81207DL</td>\n",
       "      <td>4/22/2019 4:54</td>\n",
       "      <td>This week</td>\n",
       "    </tr>\n",
       "    <tr>\n",
       "      <th>1</th>\n",
       "      <td>5CG639648Z</td>\n",
       "      <td>4/23/2019 0:06</td>\n",
       "      <td>This week</td>\n",
       "    </tr>\n",
       "    <tr>\n",
       "      <th>2</th>\n",
       "      <td>5CG8378BP0</td>\n",
       "      <td>4/23/2019 14:16</td>\n",
       "      <td>This week</td>\n",
       "    </tr>\n",
       "    <tr>\n",
       "      <th>3</th>\n",
       "      <td>5CG6400G4T</td>\n",
       "      <td>4/23/2019 2:27</td>\n",
       "      <td>This week</td>\n",
       "    </tr>\n",
       "    <tr>\n",
       "      <th>4</th>\n",
       "      <td>5CG8110Y2X</td>\n",
       "      <td>4/19/2019 2:59</td>\n",
       "      <td>This week</td>\n",
       "    </tr>\n",
       "    <tr>\n",
       "      <th>5</th>\n",
       "      <td>5CG84555J6</td>\n",
       "      <td>4/19/2019 0:23</td>\n",
       "      <td>This week</td>\n",
       "    </tr>\n",
       "    <tr>\n",
       "      <th>7</th>\n",
       "      <td>5CG812089B</td>\n",
       "      <td>4/21/2019 7:26</td>\n",
       "      <td>This week</td>\n",
       "    </tr>\n",
       "    <tr>\n",
       "      <th>8</th>\n",
       "      <td>5CG7364Q3M</td>\n",
       "      <td>4/21/2019 16:32</td>\n",
       "      <td>This week</td>\n",
       "    </tr>\n",
       "    <tr>\n",
       "      <th>9</th>\n",
       "      <td>CND80961R0</td>\n",
       "      <td>4/22/2019 10:05</td>\n",
       "      <td>This week</td>\n",
       "    </tr>\n",
       "    <tr>\n",
       "      <th>10</th>\n",
       "      <td>5CG8120K7M</td>\n",
       "      <td>4/23/2019 10:29</td>\n",
       "      <td>This week</td>\n",
       "    </tr>\n",
       "  </tbody>\n",
       "</table>\n",
       "</div>"
      ],
      "text/plain": [
       "            x1   Last Seen Date  Last Seen\n",
       "0   5CG81207DL   4/22/2019 4:54  This week\n",
       "1   5CG639648Z   4/23/2019 0:06  This week\n",
       "2   5CG8378BP0  4/23/2019 14:16  This week\n",
       "3   5CG6400G4T   4/23/2019 2:27  This week\n",
       "4   5CG8110Y2X   4/19/2019 2:59  This week\n",
       "5   5CG84555J6   4/19/2019 0:23  This week\n",
       "7   5CG812089B   4/21/2019 7:26  This week\n",
       "8   5CG7364Q3M  4/21/2019 16:32  This week\n",
       "9   CND80961R0  4/22/2019 10:05  This week\n",
       "10  5CG8120K7M  4/23/2019 10:29  This week"
      ]
     },
     "execution_count": 15,
     "metadata": {},
     "output_type": "execute_result"
    }
   ],
   "source": [
    "nonrepo_df['x1'] = nonrepo_df['Serial Number']\n",
    "merged3 = nonrepo_df[~nonrepo_df.x1.isin(merged2)]\n",
    "merged3 = merged3[['x1','Last Seen Date','Last Seen']]\n",
    "merged3.head(10)\n",
    "#merged3.to_csv('nonrepo_notin_sccm.csv') "
   ]
  }
 ],
 "metadata": {
  "kernelspec": {
   "display_name": "Python 3",
   "language": "python",
   "name": "python3"
  },
  "language_info": {
   "codemirror_mode": {
    "name": "ipython",
    "version": 3
   },
   "file_extension": ".py",
   "mimetype": "text/x-python",
   "name": "python",
   "nbconvert_exporter": "python",
   "pygments_lexer": "ipython3",
   "version": "3.6.3"
  }
 },
 "nbformat": 4,
 "nbformat_minor": 2
}
