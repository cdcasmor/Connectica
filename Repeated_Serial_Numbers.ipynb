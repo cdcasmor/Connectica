{
 "cells": [
  {
   "cell_type": "code",
   "execution_count": 1,
   "metadata": {
    "collapsed": true
   },
   "outputs": [],
   "source": [
    "import pandas as pd\n",
    "import numpy as np\n",
    "import matplotlib.pyplot as plt\n",
    "from matplotlib import rc\n",
    "from collections import Counter"
   ]
  },
  {
   "cell_type": "code",
   "execution_count": 13,
   "metadata": {
    "collapsed": true
   },
   "outputs": [],
   "source": [
    "hwinv_df = pd.read_csv('(Internal)_hwinv_details.csv')\n",
    "sccm_df = pd.read_csv('SCCM_ActiveDevices_04242019.csv')\n",
    "nonrepo_df = pd.read_csv('(Internal)_nonrepodevice_details.csv')"
   ]
  },
  {
   "cell_type": "code",
   "execution_count": 3,
   "metadata": {},
   "outputs": [
    {
     "data": {
      "text/plain": [
       "4594"
      ]
     },
     "execution_count": 3,
     "metadata": {},
     "output_type": "execute_result"
    }
   ],
   "source": [
    "#Finding the serial numbers in SCCM file that are not in HWINV\n",
    "sccm_df['x1'] = sccm_df['SERIAL_NUMBER']\n",
    "hwinv_df['x1'] = hwinv_df['Serial Number'] \n",
    "merged = sccm_df[~sccm_df.x1.isin(hwinv_df.x1)]\n",
    "merged = merged['x1']\n",
    "merged_complete = len(merged)\n",
    "merged_complete"
   ]
  },
  {
   "cell_type": "code",
   "execution_count": 4,
   "metadata": {},
   "outputs": [
    {
     "data": {
      "text/plain": [
       "4452"
      ]
     },
     "execution_count": 4,
     "metadata": {},
     "output_type": "execute_result"
    }
   ],
   "source": [
    "#Finding the unique serial numbers in SCCM file that are not in HWINV\n",
    "sccm_df['x1'] = sccm_df['SERIAL_NUMBER']\n",
    "hwinv_df['x1'] = hwinv_df['Serial Number'] \n",
    "merged = sccm_df[~sccm_df.x1.isin(hwinv_df.x1)]\n",
    "merged = merged['x1'].unique()\n",
    "merged_unique = len(merged)\n",
    "merged_unique"
   ]
  },
  {
   "cell_type": "code",
   "execution_count": 5,
   "metadata": {},
   "outputs": [
    {
     "data": {
      "text/plain": [
       "142"
      ]
     },
     "execution_count": 5,
     "metadata": {},
     "output_type": "execute_result"
    }
   ],
   "source": [
    "#Finding out how many equipment serial numbers repeat from set found above\n",
    "repeated_sn = merged_complete - merged_unique\n",
    "repeated_sn"
   ]
  },
  {
   "cell_type": "code",
   "execution_count": 6,
   "metadata": {},
   "outputs": [
    {
     "data": {
      "text/html": [
       "<div>\n",
       "<style>\n",
       "    .dataframe thead tr:only-child th {\n",
       "        text-align: right;\n",
       "    }\n",
       "\n",
       "    .dataframe thead th {\n",
       "        text-align: left;\n",
       "    }\n",
       "\n",
       "    .dataframe tbody tr th {\n",
       "        vertical-align: top;\n",
       "    }\n",
       "</style>\n",
       "<table border=\"1\" class=\"dataframe\">\n",
       "  <thead>\n",
       "    <tr style=\"text-align: right;\">\n",
       "      <th></th>\n",
       "      <th>SERIAL_NUMBER</th>\n",
       "      <th>x1</th>\n",
       "    </tr>\n",
       "  </thead>\n",
       "  <tbody>\n",
       "    <tr>\n",
       "      <th>0</th>\n",
       "      <td>CNG0511FLT</td>\n",
       "      <td>CNG0511FLT</td>\n",
       "    </tr>\n",
       "    <tr>\n",
       "      <th>1</th>\n",
       "      <td>SGH415TWNP</td>\n",
       "      <td>SGH415TWNP</td>\n",
       "    </tr>\n",
       "    <tr>\n",
       "      <th>2</th>\n",
       "      <td>CZC3161YS8</td>\n",
       "      <td>CZC3161YS8</td>\n",
       "    </tr>\n",
       "    <tr>\n",
       "      <th>3</th>\n",
       "      <td>SGH9380P1G</td>\n",
       "      <td>SGH9380P1G</td>\n",
       "    </tr>\n",
       "    <tr>\n",
       "      <th>4</th>\n",
       "      <td>2UA52828CV</td>\n",
       "      <td>2UA52828CV</td>\n",
       "    </tr>\n",
       "  </tbody>\n",
       "</table>\n",
       "</div>"
      ],
      "text/plain": [
       "  SERIAL_NUMBER          x1\n",
       "0    CNG0511FLT  CNG0511FLT\n",
       "1    SGH415TWNP  SGH415TWNP\n",
       "2    CZC3161YS8  CZC3161YS8\n",
       "3    SGH9380P1G  SGH9380P1G\n",
       "4    2UA52828CV  2UA52828CV"
      ]
     },
     "execution_count": 6,
     "metadata": {},
     "output_type": "execute_result"
    }
   ],
   "source": [
    "sccm_df[['SERIAL_NUMBER','x1']].head()"
   ]
  },
  {
   "cell_type": "code",
   "execution_count": 7,
   "metadata": {
    "collapsed": true
   },
   "outputs": [],
   "source": [
    "seen = []\n",
    "repeated = []\n",
    "for x in  sccm_df['x1']:\n",
    "    if x not in seen:\n",
    "        seen.append(x)\n",
    "    else:\n",
    "        repeated.append(x)"
   ]
  },
  {
   "cell_type": "code",
   "execution_count": 17,
   "metadata": {},
   "outputs": [
    {
     "data": {
      "text/plain": [
       "['CNG0511FLT',\n",
       " 'SGH415TWNP',\n",
       " 'CZC3161YS8',\n",
       " 'SGH9380P1G',\n",
       " '2UA52828CV',\n",
       " 'SGH118P8HZ',\n",
       " '2UA4071P50',\n",
       " '2UA44224DB',\n",
       " '2UA52828CW',\n",
       " 'AUW3030073',\n",
       " 'MXL1081VXJ',\n",
       " 'MXL40911N7',\n",
       " 'CNG752W1B4',\n",
       " '2UA9160RW3',\n",
       " '6CR6359PL4',\n",
       " 'CZC8190BYC',\n",
       " '2UA74123M2',\n",
       " '5CG6400WKP',\n",
       " '3CR533098T',\n",
       " 'JPA327ZQVH']"
      ]
     },
     "execution_count": 17,
     "metadata": {},
     "output_type": "execute_result"
    }
   ],
   "source": [
    "seen[0:20]"
   ]
  },
  {
   "cell_type": "code",
   "execution_count": 18,
   "metadata": {},
   "outputs": [
    {
     "data": {
      "text/plain": [
       "['CND8251L01',\n",
       " nan,\n",
       " '2UA6162CYJ',\n",
       " nan,\n",
       " '5CG7375HBD',\n",
       " nan,\n",
       " '5CG8356R2M',\n",
       " '5CG7203LBZ',\n",
       " '5CG73768MM',\n",
       " '1234567890',\n",
       " nan,\n",
       " 'CND8080CD1',\n",
       " nan,\n",
       " '5CG6272TG4',\n",
       " '8CG8512415',\n",
       " '5CG8232W3X',\n",
       " 'SJG1234567',\n",
       " nan,\n",
       " nan,\n",
       " '5CG73913TK']"
      ]
     },
     "execution_count": 18,
     "metadata": {},
     "output_type": "execute_result"
    }
   ],
   "source": [
    "repeated[0:20]"
   ]
  },
  {
   "cell_type": "code",
   "execution_count": 19,
   "metadata": {},
   "outputs": [
    {
     "data": {
      "text/html": [
       "<div>\n",
       "<style>\n",
       "    .dataframe thead tr:only-child th {\n",
       "        text-align: right;\n",
       "    }\n",
       "\n",
       "    .dataframe thead th {\n",
       "        text-align: left;\n",
       "    }\n",
       "\n",
       "    .dataframe tbody tr th {\n",
       "        vertical-align: top;\n",
       "    }\n",
       "</style>\n",
       "<table border=\"1\" class=\"dataframe\">\n",
       "  <thead>\n",
       "    <tr style=\"text-align: right;\">\n",
       "      <th></th>\n",
       "      <th>Serial Number</th>\n",
       "    </tr>\n",
       "  </thead>\n",
       "  <tbody>\n",
       "    <tr>\n",
       "      <th>0</th>\n",
       "      <td>CND8251L01</td>\n",
       "    </tr>\n",
       "    <tr>\n",
       "      <th>2</th>\n",
       "      <td>2UA6162CYJ</td>\n",
       "    </tr>\n",
       "    <tr>\n",
       "      <th>4</th>\n",
       "      <td>5CG7375HBD</td>\n",
       "    </tr>\n",
       "    <tr>\n",
       "      <th>6</th>\n",
       "      <td>5CG8356R2M</td>\n",
       "    </tr>\n",
       "    <tr>\n",
       "      <th>7</th>\n",
       "      <td>5CG7203LBZ</td>\n",
       "    </tr>\n",
       "    <tr>\n",
       "      <th>8</th>\n",
       "      <td>5CG73768MM</td>\n",
       "    </tr>\n",
       "    <tr>\n",
       "      <th>9</th>\n",
       "      <td>1234567890</td>\n",
       "    </tr>\n",
       "    <tr>\n",
       "      <th>11</th>\n",
       "      <td>CND8080CD1</td>\n",
       "    </tr>\n",
       "    <tr>\n",
       "      <th>13</th>\n",
       "      <td>5CG6272TG4</td>\n",
       "    </tr>\n",
       "    <tr>\n",
       "      <th>14</th>\n",
       "      <td>8CG8512415</td>\n",
       "    </tr>\n",
       "  </tbody>\n",
       "</table>\n",
       "</div>"
      ],
      "text/plain": [
       "   Serial Number\n",
       "0     CND8251L01\n",
       "2     2UA6162CYJ\n",
       "4     5CG7375HBD\n",
       "6     5CG8356R2M\n",
       "7     5CG7203LBZ\n",
       "8     5CG73768MM\n",
       "9     1234567890\n",
       "11    CND8080CD1\n",
       "13    5CG6272TG4\n",
       "14    8CG8512415"
      ]
     },
     "execution_count": 19,
     "metadata": {},
     "output_type": "execute_result"
    }
   ],
   "source": [
    "repeated_df = pd.DataFrame(\n",
    "                { \"Serial Number\": repeated\n",
    "                })\n",
    "repeated_df = repeated_df.dropna(how='all')\n",
    "repeated_df = repeated_df.loc[repeated_df['Serial Number'] != \"Bogus\"]\n",
    "repeated_df.head(10)"
   ]
  },
  {
   "cell_type": "code",
   "execution_count": 11,
   "metadata": {
    "collapsed": true
   },
   "outputs": [],
   "source": [
    "#repeated_df.to_csv('Repeated Serial Numbers.csv',index = False)"
   ]
  }
 ],
 "metadata": {
  "kernelspec": {
   "display_name": "Python 3",
   "language": "python",
   "name": "python3"
  },
  "language_info": {
   "codemirror_mode": {
    "name": "ipython",
    "version": 3
   },
   "file_extension": ".py",
   "mimetype": "text/x-python",
   "name": "python",
   "nbconvert_exporter": "python",
   "pygments_lexer": "ipython3",
   "version": "3.6.3"
  }
 },
 "nbformat": 4,
 "nbformat_minor": 2
}
